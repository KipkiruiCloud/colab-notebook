{
  "nbformat": 4,
  "nbformat_minor": 0,
  "metadata": {
    "colab": {
      "provenance": [],
      "authorship_tag": "ABX9TyMn6SQfGn6ViY2VrzfrNHgZ",
      "include_colab_link": true
    },
    "kernelspec": {
      "name": "python3",
      "display_name": "Python 3"
    },
    "language_info": {
      "name": "python"
    }
  },
  "cells": [
    {
      "cell_type": "markdown",
      "metadata": {
        "id": "view-in-github",
        "colab_type": "text"
      },
      "source": [
        "<a href=\"https://colab.research.google.com/github/KipkiruiCloud/colab-notebook/blob/main/EDA.ipynb\" target=\"_parent\"><img src=\"https://colab.research.google.com/assets/colab-badge.svg\" alt=\"Open In Colab\"/></a>"
      ]
    },
    {
      "cell_type": "code",
      "execution_count": null,
      "metadata": {
        "id": "Q1oarUtzA3i0"
      },
      "outputs": [],
      "source": [
        "\n",
        "import pandas as pd #import pandas for data manipulation\n",
        "\n",
        "import numpy as np #import numpy for numerical operations\n",
        "\n",
        "import plotly.express as px # import plotly express for interactive visualization\n",
        "\n",
        "import plotly.graph_objects as go #import plotly Graphs objects for advanced visualization\n",
        "\n",
        "import bokeh.plotting as bp #import Bokeh for web based interactive visualization\n",
        "\n",
        "import altair as alt #import altair for declarative data visualization\n",
        "\n",
        "import seaborn as sns #import seaborn for stastical data visualization\n",
        "\n",
        "import matplotlib.pyplot as plt #importing Matplotlib for standard plotting\n",
        "\n",
        "from scipy import stats #importing Scipy for stastical analysis\n",
        "\n",
        "from statsmodels.tsa.arima.model import ARIMA #importing ARIMA model for time series forecasting\n",
        "\n",
        "import geopandas as gpd #importing Geopandas for handling spatial data\n",
        "\n",
        "import folium #importing Folium for interactive map visualization"
      ]
    },
    {
      "cell_type": "code",
      "source": [
        "df = pd.read_csv(\"https://raw.githubusercontent.com/mwaskom/seaborn-data/master/tips.csv\") #Loading the tips dataset"
      ],
      "metadata": {
        "id": "gx1N_Nt7CL97"
      },
      "execution_count": null,
      "outputs": []
    },
    {
      "cell_type": "code",
      "source": [
        "\n",
        "#1.3.1 understanding data structure\n",
        "\n",
        "print(df.head()) #display first five rows of the data set\n",
        "\n",
        "print(df.info())#isplay data structure and data types"
      ],
      "metadata": {
        "colab": {
          "base_uri": "https://localhost:8080/"
        },
        "id": "4_C5DaoiCw9s",
        "outputId": "c894fb91-1003-48af-c090-57a1df2f3bb0"
      },
      "execution_count": null,
      "outputs": [
        {
          "output_type": "stream",
          "name": "stdout",
          "text": [
            "   total_bill   tip     sex smoker  day    time  size\n",
            "0       16.99  1.01  Female     No  Sun  Dinner     2\n",
            "1       10.34  1.66    Male     No  Sun  Dinner     3\n",
            "2       21.01  3.50    Male     No  Sun  Dinner     3\n",
            "3       23.68  3.31    Male     No  Sun  Dinner     2\n",
            "4       24.59  3.61  Female     No  Sun  Dinner     4\n",
            "<class 'pandas.core.frame.DataFrame'>\n",
            "RangeIndex: 244 entries, 0 to 243\n",
            "Data columns (total 7 columns):\n",
            " #   Column      Non-Null Count  Dtype  \n",
            "---  ------      --------------  -----  \n",
            " 0   total_bill  244 non-null    float64\n",
            " 1   tip         244 non-null    float64\n",
            " 2   sex         244 non-null    object \n",
            " 3   smoker      244 non-null    object \n",
            " 4   day         244 non-null    object \n",
            " 5   time        244 non-null    object \n",
            " 6   size        244 non-null    int64  \n",
            "dtypes: float64(2), int64(1), object(4)\n",
            "memory usage: 13.5+ KB\n",
            "None\n"
          ]
        }
      ]
    },
    {
      "cell_type": "code",
      "source": [
        "print(df.isnull().sum())"
      ],
      "metadata": {
        "colab": {
          "base_uri": "https://localhost:8080/"
        },
        "id": "ZascMFV7DysB",
        "outputId": "204c227b-fa01-446e-8a84-8684924af3e3"
      },
      "execution_count": null,
      "outputs": [
        {
          "output_type": "stream",
          "name": "stdout",
          "text": [
            "total_bill    0\n",
            "tip           0\n",
            "sex           0\n",
            "smoker        0\n",
            "day           0\n",
            "time          0\n",
            "size          0\n",
            "dtype: int64\n"
          ]
        }
      ]
    },
    {
      "cell_type": "code",
      "source": [
        "print(df.describe())"
      ],
      "metadata": {
        "colab": {
          "base_uri": "https://localhost:8080/"
        },
        "id": "mFsIMT7lES1W",
        "outputId": "b1e3f065-7b19-4604-83db-08a9ea29105c"
      },
      "execution_count": null,
      "outputs": [
        {
          "output_type": "stream",
          "name": "stdout",
          "text": [
            "       total_bill         tip        size\n",
            "count  244.000000  244.000000  244.000000\n",
            "mean    19.785943    2.998279    2.569672\n",
            "std      8.902412    1.383638    0.951100\n",
            "min      3.070000    1.000000    1.000000\n",
            "25%     13.347500    2.000000    2.000000\n",
            "50%     17.795000    2.900000    2.000000\n",
            "75%     24.127500    3.562500    3.000000\n",
            "max     50.810000   10.000000    6.000000\n"
          ]
        }
      ]
    },
    {
      "cell_type": "code",
      "source": [
        "sns.histplot(df['total_bill'], bins=20, kde=True)\n",
        "plt.show()"
      ],
      "metadata": {
        "colab": {
          "base_uri": "https://localhost:8080/",
          "height": 450
        },
        "id": "HbiiyLRWFmXZ",
        "outputId": "ec0216f5-c0bb-41d0-f5c8-cc0652a0c391"
      },
      "execution_count": null,
      "outputs": [
        {
          "output_type": "display_data",
          "data": {
            "text/plain": [
              "<Figure size 640x480 with 1 Axes>"
            ],
            "image/png": "[encoded data removed]"
          },
          "metadata": {}
        }
      ]
    }
  ]
}